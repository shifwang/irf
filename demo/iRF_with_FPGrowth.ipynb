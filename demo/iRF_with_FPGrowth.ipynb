{
 "cells": [
  {
   "cell_type": "code",
   "execution_count": 2,
   "metadata": {},
   "outputs": [],
   "source": [
    "import sys\n",
    "sys.path+= ['/Users/ericxia/Documents/Research/iRF/irf/demo', '/Users/ericxia/anaconda/lib/python36.zip', '/Users/ericxia/anaconda/lib/python3.6', '/Users/ericxia/anaconda/lib/python3.6/lib-dynload', '/Users/ericxia/anaconda/lib/python3.6/site-packages', '/Users/ericxia/Documents/Research/iRF/irf']"
   ]
  },
  {
   "cell_type": "code",
   "execution_count": 3,
   "metadata": {},
   "outputs": [
    {
     "name": "stderr",
     "output_type": "stream",
     "text": [
      "/Users/ericxia/anaconda/lib/python3.6/site-packages/sklearn/externals/joblib/__init__.py:15: DeprecationWarning: sklearn.externals.joblib is deprecated in 0.21 and will be removed in 0.23. Please import this functionality directly from joblib, which can be installed with: pip install joblib. If this warning is raised when loading pickled models, you may need to re-serialize those models with scikit-learn 0.21+.\n",
      "  warnings.warn(msg, category=DeprecationWarning)\n",
      "/Users/ericxia/anaconda/lib/python3.6/site-packages/sklearn/externals/six.py:31: DeprecationWarning: The module is deprecated in version 0.21 and will be removed in version 0.23 since we've dropped support for Python 2.7. Please rely on the official version of six (https://pypi.org/project/six/).\n",
      "  \"(https://pypi.org/project/six/).\", DeprecationWarning)\n"
     ]
    }
   ],
   "source": [
    "import irf\n",
    "from sklearn.datasets import load_boston, load_breast_cancer\n",
    "import irf.ensemble.wrf as wrf\n",
    "from irf.ensemble.wrf import wrf_reg\n",
    "import numpy as np\n",
    "\n",
    "from sklearn.model_selection import train_test_split\n",
    "\n",
    "from irf import irf_utils\n",
    "from irf import irf_jupyter_utils"
   ]
  },
  {
   "cell_type": "code",
   "execution_count": 4,
   "metadata": {},
   "outputs": [
    {
     "data": {
      "text/plain": [
       "['/Users/ericxia/anaconda/lib/python36.zip',\n",
       " '/Users/ericxia/anaconda/lib/python3.6',\n",
       " '/Users/ericxia/anaconda/lib/python3.6/lib-dynload',\n",
       " '',\n",
       " '/Users/ericxia/anaconda/lib/python3.6/site-packages',\n",
       " '/Users/ericxia/Documents/Research/iRF/irf',\n",
       " '/Users/ericxia/anaconda/lib/python3.6/site-packages/IPython/extensions',\n",
       " '/Users/ericxia/.ipython',\n",
       " '/Users/ericxia/Documents/Research/iRF/irf/demo',\n",
       " '/Users/ericxia/anaconda/lib/python36.zip',\n",
       " '/Users/ericxia/anaconda/lib/python3.6',\n",
       " '/Users/ericxia/anaconda/lib/python3.6/lib-dynload',\n",
       " '/Users/ericxia/anaconda/lib/python3.6/site-packages',\n",
       " '/Users/ericxia/Documents/Research/iRF/irf']"
      ]
     },
     "execution_count": 4,
     "metadata": {},
     "output_type": "execute_result"
    }
   ],
   "source": [
    "sys.path"
   ]
  },
  {
   "cell_type": "code",
   "execution_count": 5,
   "metadata": {},
   "outputs": [],
   "source": [
    "from pyspark.ml.fpm import FPGrowth\n",
    "from pyspark.sql import SparkSession\n",
    "from pyspark.sql.types import *"
   ]
  },
  {
   "cell_type": "code",
   "execution_count": 6,
   "metadata": {},
   "outputs": [],
   "source": [
    "data = load_breast_cancer()\n",
    "X = data['data']\n",
    "y = data['target']"
   ]
  },
  {
   "cell_type": "code",
   "execution_count": 7,
   "metadata": {},
   "outputs": [],
   "source": [
    "X_train, X_test, y_train, y_test = train_test_split(\n",
    "        data.data, data.target, train_size=0.9)"
   ]
  },
  {
   "cell_type": "code",
   "execution_count": 8,
   "metadata": {},
   "outputs": [
    {
     "name": "stdout",
     "output_type": "stream",
     "text": [
      "[0.00000000e+00 1.18476689e-04 0.00000000e+00 0.00000000e+00\n",
      " 0.00000000e+00 0.00000000e+00 0.00000000e+00 1.75509412e-01\n",
      " 0.00000000e+00 0.00000000e+00 2.70753104e-03 0.00000000e+00\n",
      " 6.00027836e-03 0.00000000e+00 0.00000000e+00 0.00000000e+00\n",
      " 0.00000000e+00 0.00000000e+00 0.00000000e+00 0.00000000e+00\n",
      " 1.32087922e-01 4.79954935e-02 3.18276352e-01 1.19620759e-02\n",
      " 0.00000000e+00 0.00000000e+00 8.40359210e-03 2.96938866e-01\n",
      " 0.00000000e+00 0.00000000e+00]\n"
     ]
    }
   ],
   "source": [
    "rf = wrf()\n",
    "weight = np.ones((X.shape[1],)) / X.shape[1]\n",
    "rf.fit(X, y, feature_weight=weight)\n",
    "print(rf.feature_importances_)"
   ]
  },
  {
   "cell_type": "code",
   "execution_count": 9,
   "metadata": {},
   "outputs": [],
   "source": [
    "all_rf_tree_data = irf_utils.get_rf_tree_data(rf=rf, X_train=X_train, X_test=X_test, y_test=y_test)"
   ]
  },
  {
   "cell_type": "code",
   "execution_count": 10,
   "metadata": {},
   "outputs": [],
   "source": [
    "def convert(leaf_node_paths, feature_paths):\n",
    "    leafnode_to_features = {}\n",
    "    for i in range(len(leaf_node_paths)):\n",
    "        leaf_node = leaf_node_paths[i][-1]\n",
    "        leafnode_to_features[leaf_node] = feature_paths[i]\n",
    "    return leafnode_to_features"
   ]
  },
  {
   "cell_type": "code",
   "execution_count": 11,
   "metadata": {},
   "outputs": [],
   "source": [
    "interactions = np.array([])\n",
    "inp = X_train[y_train==1]\n",
    "\n",
    "for i in range(len(rf.estimators_)):\n",
    "    key = \"dtree\" + str(i)\n",
    "    tree_dict = all_rf_tree_data[key]\n",
    "    #assume that ith entry of feature_paths corresponds to ith entry of leaf_node_paths\n",
    "    feature_paths = tree_dict[\"all_uniq_leaf_paths_features\"]\n",
    "    leaf_nodes = tree_dict[\"all_leaf_nodes\"]\n",
    "    leaf_node_paths = tree_dict[\"all_leaf_node_paths\"]\n",
    "    decision_tree = rf.estimators_[i]\n",
    "    \n",
    "    end = decision_tree.apply(inp)\n",
    "    leafnode_to_features = convert(leaf_node_paths, feature_paths)\n",
    "    temp_features = np.vectorize(leafnode_to_features.get, otypes=[np.ndarray])(end)\n",
    "    interactions = np.concatenate((interactions, temp_features))\n",
    "    \n"
   ]
  },
  {
   "cell_type": "code",
   "execution_count": 12,
   "metadata": {},
   "outputs": [
    {
     "name": "stdout",
     "output_type": "stream",
     "text": [
      "+---+--------------------+\n",
      "| id|               items|\n",
      "+---+--------------------+\n",
      "|  0| [7, 21, 22, 23, 27]|\n",
      "|  1| [7, 21, 22, 23, 27]|\n",
      "|  2|[12, 20, 22, 23, 27]|\n",
      "|  3| [7, 21, 22, 23, 27]|\n",
      "|  4|[20, 21, 22, 23, 27]|\n",
      "|  5| [7, 21, 22, 23, 27]|\n",
      "|  6| [7, 21, 22, 23, 27]|\n",
      "|  7| [7, 21, 22, 23, 27]|\n",
      "|  8| [7, 21, 22, 23, 27]|\n",
      "|  9|[20, 21, 22, 23, 27]|\n",
      "| 10|[20, 21, 22, 23, 27]|\n",
      "| 11|[20, 21, 22, 23, 27]|\n",
      "| 12| [7, 21, 22, 23, 27]|\n",
      "| 13| [7, 21, 22, 23, 27]|\n",
      "| 14| [7, 21, 22, 23, 27]|\n",
      "| 15| [7, 21, 22, 23, 27]|\n",
      "| 16| [7, 21, 22, 23, 27]|\n",
      "| 17|[7, 20, 21, 22, 2...|\n",
      "| 18| [7, 21, 22, 23, 27]|\n",
      "| 19| [7, 21, 22, 23, 27]|\n",
      "+---+--------------------+\n",
      "only showing top 20 rows\n",
      "\n"
     ]
    }
   ],
   "source": [
    "#schema = StructType([StructField(\"id\", IntegerType(), True), \n",
    "#                     StructField(\"list\", ArrayType(), True)])\n",
    "\n",
    "spark = SparkSession \\\n",
    "    .builder \\\n",
    "    .appName(\"iterative Random Forests with FP-Growth\") \\\n",
    "    .getOrCreate()\n",
    "    \n",
    "input_list = [(i, interactions[i].tolist()) for i in range(len(interactions))]\n",
    "\n",
    "df = spark.createDataFrame(input_list, [\"id\", \"items\"])\n",
    "df.show()"
   ]
  },
  {
   "cell_type": "code",
   "execution_count": 13,
   "metadata": {},
   "outputs": [
    {
     "name": "stdout",
     "output_type": "stream",
     "text": [
      "+----------------+----+\n",
      "|items           |freq|\n",
      "+----------------+----+\n",
      "|[7]             |1543|\n",
      "|[7, 21]         |1144|\n",
      "|[7, 21, 22]     |840 |\n",
      "|[7, 21, 22, 27] |534 |\n",
      "|[7, 21, 27]     |579 |\n",
      "|[7, 22]         |933 |\n",
      "|[7, 22, 27]     |605 |\n",
      "|[7, 20]         |945 |\n",
      "|[7, 20, 21]     |579 |\n",
      "|[7, 20, 22]     |351 |\n",
      "|[7, 20, 22, 27] |320 |\n",
      "|[7, 20, 27]     |658 |\n",
      "|[7, 27]         |943 |\n",
      "|[27]            |2580|\n",
      "|[23]            |912 |\n",
      "|[23, 22]        |679 |\n",
      "|[23, 22, 27]    |671 |\n",
      "|[23, 20]        |408 |\n",
      "|[23, 20, 27]    |408 |\n",
      "|[23, 27]        |904 |\n",
      "|[22]            |2283|\n",
      "|[22, 27]        |1955|\n",
      "|[21]            |1912|\n",
      "|[21, 22]        |1567|\n",
      "|[21, 22, 27]    |1261|\n",
      "|[21, 27]        |1347|\n",
      "|[10]            |532 |\n",
      "|[10, 7]         |532 |\n",
      "|[10, 7, 20]     |532 |\n",
      "|[10, 20]        |532 |\n",
      "|[12]            |330 |\n",
      "|[12, 21]        |325 |\n",
      "|[12, 21, 22]    |325 |\n",
      "|[12, 22]        |330 |\n",
      "|[20]            |1808|\n",
      "|[20, 21]        |814 |\n",
      "|[20, 21, 22]    |476 |\n",
      "|[20, 21, 22, 27]|453 |\n",
      "|[20, 21, 27]    |539 |\n",
      "|[20, 22]        |932 |\n",
      "+----------------+----+\n",
      "only showing top 40 rows\n",
      "\n"
     ]
    }
   ],
   "source": [
    "fpGrowth = FPGrowth(itemsCol=\"items\", minSupport=0.1, minConfidence=0.6)\n",
    "model = fpGrowth.fit(df)\n",
    "\n",
    "model.freqItemsets.show(40, False)"
   ]
  },
  {
   "cell_type": "code",
   "execution_count": 14,
   "metadata": {},
   "outputs": [],
   "source": [
    "inter = [interactions[i].tolist() for i in range(len(interactions))]"
   ]
  },
  {
   "cell_type": "code",
   "execution_count": 14,
   "metadata": {},
   "outputs": [
    {
     "ename": "AttributeError",
     "evalue": "module 'turicreate' has no attribute 'pattern_mining'",
     "output_type": "error",
     "traceback": [
      "\u001b[0;31m---------------------------------------------------------------------------\u001b[0m",
      "\u001b[0;31mAttributeError\u001b[0m                            Traceback (most recent call last)",
      "\u001b[0;32m<ipython-input-14-bf08c041969e>\u001b[0m in \u001b[0;36m<module>\u001b[0;34m\u001b[0m\n\u001b[1;32m      4\u001b[0m \u001b[0mvals\u001b[0m \u001b[0;34m=\u001b[0m \u001b[0mtc\u001b[0m\u001b[0;34m.\u001b[0m\u001b[0mSArray\u001b[0m\u001b[0;34m(\u001b[0m\u001b[0minter\u001b[0m\u001b[0;34m)\u001b[0m\u001b[0;34m\u001b[0m\u001b[0;34m\u001b[0m\u001b[0m\n\u001b[1;32m      5\u001b[0m \u001b[0msf\u001b[0m \u001b[0;34m=\u001b[0m \u001b[0mtc\u001b[0m\u001b[0;34m.\u001b[0m\u001b[0mSFrame\u001b[0m\u001b[0;34m(\u001b[0m\u001b[0;34m{\u001b[0m\u001b[0;34m'id'\u001b[0m\u001b[0;34m:\u001b[0m\u001b[0mids\u001b[0m\u001b[0;34m,\u001b[0m\u001b[0;34m'val'\u001b[0m\u001b[0;34m:\u001b[0m\u001b[0mvals\u001b[0m\u001b[0;34m}\u001b[0m\u001b[0;34m)\u001b[0m\u001b[0;34m\u001b[0m\u001b[0;34m\u001b[0m\u001b[0m\n\u001b[0;32m----> 6\u001b[0;31m model = tc.pattern_mining.create(sf, 'val',\n\u001b[0m\u001b[1;32m      7\u001b[0m                 features=['val'], min_length = 5)\n",
      "\u001b[0;31mAttributeError\u001b[0m: module 'turicreate' has no attribute 'pattern_mining'"
     ]
    }
   ],
   "source": [
    "#If we were used to do GraphLab\n",
    "import turicreate as tc\n",
    "ids = tc.SArray(list(range(len(inter))))\n",
    "vals = tc.SArray(inter)\n",
    "sf = tc.SFrame({'id':ids,'val':vals})\n",
    "model = tc.pattern_mining.create(sf, 'val',\n",
    "                features=['val'], min_length = 5)"
   ]
  },
  {
   "cell_type": "code",
   "execution_count": 15,
   "metadata": {
    "scrolled": true
   },
   "outputs": [
    {
     "data": {
      "text/plain": [
       "[(2580, [27]),\n",
       " (2283, [22]),\n",
       " (1955, [22, 27]),\n",
       " (1912, [21]),\n",
       " (1808, [20]),\n",
       " (1567, [21, 22]),\n",
       " (1543, [7]),\n",
       " (1521, [20, 27]),\n",
       " (1347, [21, 27]),\n",
       " (1261, [21, 22, 27]),\n",
       " (1144, [7, 21]),\n",
       " (945, [7, 20]),\n",
       " (943, [7, 27]),\n",
       " (933, [7, 22]),\n",
       " (932, [20, 22]),\n",
       " (912, [23]),\n",
       " (904, [23, 27]),\n",
       " (901, [20, 22, 27]),\n",
       " (840, [7, 21, 22]),\n",
       " (814, [20, 21]),\n",
       " (679, [22, 23]),\n",
       " (671, [22, 23, 27]),\n",
       " (658, [7, 20, 27]),\n",
       " (605, [7, 22, 27]),\n",
       " (579, [7, 20, 21]),\n",
       " (579, [7, 21, 27]),\n",
       " (539, [20, 21, 27]),\n",
       " (534, [7, 21, 22, 27]),\n",
       " (532, [7, 10]),\n",
       " (532, [7, 10, 20]),\n",
       " (532, [10]),\n",
       " (532, [10, 20]),\n",
       " (476, [20, 21, 22]),\n",
       " (453, [20, 21, 22, 27]),\n",
       " (408, [20, 23]),\n",
       " (408, [20, 23, 27]),\n",
       " (351, [7, 20, 22]),\n",
       " (330, [12]),\n",
       " (330, [12, 22]),\n",
       " (325, [12, 21]),\n",
       " (325, [12, 21, 22]),\n",
       " (320, [7, 20, 22, 27]),\n",
       " (313, [12, 22, 27]),\n",
       " (313, [12, 27]),\n",
       " (308, [12, 21, 22, 27]),\n",
       " (308, [12, 21, 27]),\n",
       " (307, [21, 22, 23]),\n",
       " (307, [21, 23]),\n",
       " (305, [21, 22, 23, 27]),\n",
       " (305, [21, 23, 27]),\n",
       " (304, [7, 20, 21, 27]),\n",
       " (282, [7, 20, 21, 22]),\n",
       " (280, [7, 10, 20, 27]),\n",
       " (280, [7, 10, 27]),\n",
       " (280, [10, 20, 27]),\n",
       " (280, [10, 27]),\n",
       " (274, [1]),\n",
       " (274, [1, 20]),\n",
       " (274, [1, 20, 22]),\n",
       " (274, [1, 20, 22, 27]),\n",
       " (274, [1, 20, 27]),\n",
       " (274, [1, 22]),\n",
       " (274, [1, 22, 27]),\n",
       " (274, [1, 27]),\n",
       " (261, [7, 22, 23]),\n",
       " (261, [7, 23]),\n",
       " (259, [7, 20, 21, 22, 27]),\n",
       " (254, [7, 21, 22, 23]),\n",
       " (254, [7, 21, 23]),\n",
       " (253, [7, 22, 23, 27]),\n",
       " (253, [7, 23, 27]),\n",
       " (252, [7, 10, 20, 21]),\n",
       " (252, [7, 10, 21]),\n",
       " (252, [7, 21, 22, 23, 27]),\n",
       " (252, [7, 21, 23, 27]),\n",
       " (252, [10, 20, 21]),\n",
       " (252, [10, 21]),\n",
       " (180, [20, 22, 23]),\n",
       " (180, [20, 22, 23, 27]),\n",
       " (55, [12, 20]),\n",
       " (55, [12, 20, 22]),\n",
       " (51, [12, 20, 21]),\n",
       " (51, [12, 20, 21, 22]),\n",
       " (48, [20, 21, 22, 23]),\n",
       " (48, [20, 21, 22, 23, 27]),\n",
       " (48, [20, 21, 23]),\n",
       " (48, [20, 21, 23, 27]),\n",
       " (40, [12, 20, 22, 27]),\n",
       " (40, [12, 20, 27]),\n",
       " (36, [12, 20, 21, 22, 27]),\n",
       " (36, [12, 20, 21, 27]),\n",
       " (27, [26]),\n",
       " (24, [7, 26]),\n",
       " (19, [1, 20, 21, 22]),\n",
       " (19, [1, 20, 21, 22, 27]),\n",
       " (19, [1, 20, 21, 27]),\n",
       " (19, [1, 21]),\n",
       " (19, [1, 21, 22]),\n",
       " (19, [1, 21, 22, 27]),\n",
       " (19, [1, 21, 27])]"
      ]
     },
     "execution_count": 15,
     "metadata": {},
     "output_type": "execute_result"
    }
   ],
   "source": [
    "from prefixspan import PrefixSpan\n",
    "ps = PrefixSpan(inter)\n",
    "ps.topk(100)"
   ]
  },
  {
   "cell_type": "code",
   "execution_count": null,
   "metadata": {},
   "outputs": [],
   "source": [
    "####WILL KILL THE KERNEL FOR SOME REASON\n",
    "stability_score = irf_utils.run_iRF(X_train=X_train,\n",
    "                                    X_test=X_test,\n",
    "                                    y_train=y_train,\n",
    "                                    y_test=y_test,\n",
    "                                    rf = rf)"
   ]
  },
  {
   "cell_type": "code",
   "execution_count": 16,
   "metadata": {},
   "outputs": [],
   "source": [
    "import pyfpgrowth"
   ]
  },
  {
   "cell_type": "code",
   "execution_count": 19,
   "metadata": {},
   "outputs": [],
   "source": [
    "fp_tree = pyfpgrowth.FPTree(inter, 0.9, None, None)"
   ]
  },
  {
   "cell_type": "code",
   "execution_count": 33,
   "metadata": {},
   "outputs": [],
   "source": [
    "children = fp_tree.root.children"
   ]
  },
  {
   "cell_type": "code",
   "execution_count": 37,
   "metadata": {},
   "outputs": [
    {
     "data": {
      "text/plain": [
       "27"
      ]
     },
     "execution_count": 37,
     "metadata": {},
     "output_type": "execute_result"
    }
   ],
   "source": [
    "children[0].value"
   ]
  },
  {
   "cell_type": "code",
   "execution_count": null,
   "metadata": {},
   "outputs": [],
   "source": []
  }
 ],
 "metadata": {
  "kernelspec": {
   "display_name": "Python 3",
   "language": "python",
   "name": "python3"
  },
  "language_info": {
   "codemirror_mode": {
    "name": "ipython",
    "version": 3
   },
   "file_extension": ".py",
   "mimetype": "text/x-python",
   "name": "python",
   "nbconvert_exporter": "python",
   "pygments_lexer": "ipython3",
   "version": "3.6.9"
  }
 },
 "nbformat": 4,
 "nbformat_minor": 2
}
